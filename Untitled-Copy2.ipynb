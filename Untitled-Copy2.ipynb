{
 "cells": [
  {
   "cell_type": "code",
   "execution_count": 1,
   "metadata": {},
   "outputs": [],
   "source": [
    "import pandas as pd"
   ]
  },
  {
   "cell_type": "code",
   "execution_count": 2,
   "metadata": {
    "scrolled": true
   },
   "outputs": [],
   "source": [
    "path = '/Users/moutasemakkad/Desktop/COLNYC201904DATA3/homework/04-Pandas/Instructions/HeroesOfPymoli/Resources/purchase_data.csv'\n",
    "file = pd.read_csv(path)"
   ]
  },
  {
   "cell_type": "code",
   "execution_count": 3,
   "metadata": {},
   "outputs": [],
   "source": [
    "df = pd.DataFrame(file).sort_values(by=['SN'])"
   ]
  },
  {
   "cell_type": "markdown",
   "metadata": {},
   "source": [
    "Player Count"
   ]
  },
  {
   "cell_type": "code",
   "execution_count": 4,
   "metadata": {},
   "outputs": [
    {
     "data": {
      "text/html": [
       "<div>\n",
       "<style scoped>\n",
       "    .dataframe tbody tr th:only-of-type {\n",
       "        vertical-align: middle;\n",
       "    }\n",
       "\n",
       "    .dataframe tbody tr th {\n",
       "        vertical-align: top;\n",
       "    }\n",
       "\n",
       "    .dataframe thead th {\n",
       "        text-align: right;\n",
       "    }\n",
       "</style>\n",
       "<table border=\"1\" class=\"dataframe\">\n",
       "  <thead>\n",
       "    <tr style=\"text-align: right;\">\n",
       "      <th></th>\n",
       "      <th>Total Players</th>\n",
       "    </tr>\n",
       "  </thead>\n",
       "  <tbody>\n",
       "    <tr>\n",
       "      <th>0</th>\n",
       "      <td>576</td>\n",
       "    </tr>\n",
       "  </tbody>\n",
       "</table>\n",
       "</div>"
      ],
      "text/plain": [
       "   Total Players\n",
       "0            576"
      ]
     },
     "execution_count": 4,
     "metadata": {},
     "output_type": "execute_result"
    }
   ],
   "source": [
    "users = df['SN']\n",
    "count_users = users.unique()\n",
    "# c = pd.DataFrame(count_users)\n",
    "# c.count()\n",
    "# len(df['SN'].unique())\n",
    "\n",
    "df_total_players = pd.DataFrame([{'Total Players':len(count_users)}])\n",
    "df_total_players"
   ]
  },
  {
   "cell_type": "markdown",
   "metadata": {},
   "source": [
    "#### Purchasing Analysis (Total)"
   ]
  },
  {
   "cell_type": "markdown",
   "metadata": {},
   "source": [
    "Number of Unique Items"
   ]
  },
  {
   "cell_type": "code",
   "execution_count": 5,
   "metadata": {},
   "outputs": [],
   "source": [
    "# Number of Unique Items\n",
    "num_unique_items = len(df['Item Name'].unique())"
   ]
  },
  {
   "cell_type": "markdown",
   "metadata": {},
   "source": [
    "Item Average Price"
   ]
  },
  {
   "cell_type": "code",
   "execution_count": 6,
   "metadata": {},
   "outputs": [],
   "source": [
    "# Average Purchase Price\n",
    "Average_purchase_price = df['Price'].mean()"
   ]
  },
  {
   "cell_type": "code",
   "execution_count": 7,
   "metadata": {},
   "outputs": [],
   "source": [
    "# Total Number of Purchases\n",
    "num_purchases = int(df['Purchase ID'].tail(1))"
   ]
  },
  {
   "cell_type": "code",
   "execution_count": 8,
   "metadata": {},
   "outputs": [],
   "source": [
    "# Total Revenue\n",
    "total_revenue = df['Price'].sum()"
   ]
  },
  {
   "cell_type": "code",
   "execution_count": 9,
   "metadata": {},
   "outputs": [
    {
     "data": {
      "text/html": [
       "<div>\n",
       "<style scoped>\n",
       "    .dataframe tbody tr th:only-of-type {\n",
       "        vertical-align: middle;\n",
       "    }\n",
       "\n",
       "    .dataframe tbody tr th {\n",
       "        vertical-align: top;\n",
       "    }\n",
       "\n",
       "    .dataframe thead th {\n",
       "        text-align: right;\n",
       "    }\n",
       "</style>\n",
       "<table border=\"1\" class=\"dataframe\">\n",
       "  <thead>\n",
       "    <tr style=\"text-align: right;\">\n",
       "      <th></th>\n",
       "      <th>Number of Unique Items</th>\n",
       "      <th>Average Price</th>\n",
       "      <th>Number of Purchases</th>\n",
       "      <th>Total Revenue</th>\n",
       "    </tr>\n",
       "  </thead>\n",
       "  <tbody>\n",
       "    <tr>\n",
       "      <th>0</th>\n",
       "      <td>179</td>\n",
       "      <td>3.050987</td>\n",
       "      <td>17</td>\n",
       "      <td>2379.77</td>\n",
       "    </tr>\n",
       "  </tbody>\n",
       "</table>\n",
       "</div>"
      ],
      "text/plain": [
       "   Number of Unique Items  Average Price  Number of Purchases  Total Revenue\n",
       "0                     179       3.050987                   17        2379.77"
      ]
     },
     "execution_count": 9,
     "metadata": {},
     "output_type": "execute_result"
    }
   ],
   "source": [
    "df_purchasing_analysis = pd.DataFrame({'Number of Unique Items': [num_unique_items],'Average Price': [Average_purchase_price],'Number of Purchases': [num_purchases],'Total Revenue':[total_revenue]})\n",
    "df_purchasing_analysis"
   ]
  },
  {
   "cell_type": "markdown",
   "metadata": {},
   "source": [
    "#### Gender Demographics"
   ]
  },
  {
   "cell_type": "code",
   "execution_count": 10,
   "metadata": {},
   "outputs": [
    {
     "data": {
      "text/plain": [
       "3"
      ]
     },
     "execution_count": 10,
     "metadata": {},
     "output_type": "execute_result"
    }
   ],
   "source": [
    "t = df['Gender'].unique()\n",
    "len(t)"
   ]
  },
  {
   "cell_type": "code",
   "execution_count": 11,
   "metadata": {},
   "outputs": [],
   "source": [
    "# percentage and Count of Male Players\n",
    "user_gender_df = df.drop_duplicates(subset=\"SN\")\n",
    "\n",
    "# .unique()\n",
    "# g = pd.DataFrame(group)\n",
    "# g"
   ]
  },
  {
   "cell_type": "code",
   "execution_count": 12,
   "metadata": {},
   "outputs": [
    {
     "data": {
      "text/plain": [
       "576"
      ]
     },
     "execution_count": 12,
     "metadata": {},
     "output_type": "execute_result"
    }
   ],
   "source": [
    "total = user_gender_df['SN'].count()\n",
    "total"
   ]
  },
  {
   "cell_type": "code",
   "execution_count": 13,
   "metadata": {},
   "outputs": [
    {
     "data": {
      "text/plain": [
       "Male                     484\n",
       "Female                    81\n",
       "Other / Non-Disclosed     11\n",
       "Name: Gender, dtype: int64"
      ]
     },
     "execution_count": 13,
     "metadata": {},
     "output_type": "execute_result"
    }
   ],
   "source": [
    "# Male Count\n",
    "gender_counts = user_gender_df[\"Gender\"].value_counts()\n",
    "gender_counts"
   ]
  },
  {
   "cell_type": "code",
   "execution_count": 14,
   "metadata": {},
   "outputs": [
    {
     "data": {
      "text/plain": [
       "84.02777777777779"
      ]
     },
     "execution_count": 14,
     "metadata": {},
     "output_type": "execute_result"
    }
   ],
   "source": [
    "# Male Precentage\n",
    "male_count = gender_counts[\"Male\"]\n",
    "malePrecentage = (male_count/total)*100\n",
    "malePrecentage"
   ]
  },
  {
   "cell_type": "code",
   "execution_count": 15,
   "metadata": {},
   "outputs": [
    {
     "data": {
      "text/plain": [
       "14.0625"
      ]
     },
     "execution_count": 15,
     "metadata": {},
     "output_type": "execute_result"
    }
   ],
   "source": [
    "# Female Count\n",
    "female_count = gender_counts[\"Female\"]\n",
    "femalePrecentage = (female_count/total)*100\n",
    "femalePrecentage"
   ]
  },
  {
   "cell_type": "code",
   "execution_count": 16,
   "metadata": {},
   "outputs": [],
   "source": [
    "# Count of Other / Non-Disclosed\n",
    "NonDisclosed = gender_counts[\"Other / Non-Disclosed\"]"
   ]
  },
  {
   "cell_type": "code",
   "execution_count": 17,
   "metadata": {},
   "outputs": [
    {
     "data": {
      "text/plain": [
       "1.9097222222222223"
      ]
     },
     "execution_count": 17,
     "metadata": {},
     "output_type": "execute_result"
    }
   ],
   "source": [
    "# Non disclosed Precentage\n",
    "NonDisclosedPrecentage = (NonDisclosed/total)*100\n",
    "NonDisclosedPrecentage"
   ]
  },
  {
   "cell_type": "code",
   "execution_count": 18,
   "metadata": {},
   "outputs": [
    {
     "data": {
      "text/html": [
       "<div>\n",
       "<style scoped>\n",
       "    .dataframe tbody tr th:only-of-type {\n",
       "        vertical-align: middle;\n",
       "    }\n",
       "\n",
       "    .dataframe tbody tr th {\n",
       "        vertical-align: top;\n",
       "    }\n",
       "\n",
       "    .dataframe thead th {\n",
       "        text-align: right;\n",
       "    }\n",
       "</style>\n",
       "<table border=\"1\" class=\"dataframe\">\n",
       "  <thead>\n",
       "    <tr style=\"text-align: right;\">\n",
       "      <th></th>\n",
       "      <th>Gender</th>\n",
       "      <th>Total Count</th>\n",
       "      <th>Percentage of Players</th>\n",
       "    </tr>\n",
       "  </thead>\n",
       "  <tbody>\n",
       "    <tr>\n",
       "      <th>0</th>\n",
       "      <td>Male</td>\n",
       "      <td>484</td>\n",
       "      <td>84.027778</td>\n",
       "    </tr>\n",
       "    <tr>\n",
       "      <th>1</th>\n",
       "      <td>Female</td>\n",
       "      <td>81</td>\n",
       "      <td>14.062500</td>\n",
       "    </tr>\n",
       "    <tr>\n",
       "      <th>2</th>\n",
       "      <td>Other / Non-Disclosed</td>\n",
       "      <td>11</td>\n",
       "      <td>1.909722</td>\n",
       "    </tr>\n",
       "  </tbody>\n",
       "</table>\n",
       "</div>"
      ],
      "text/plain": [
       "                  Gender  Total Count  Percentage of Players\n",
       "0                   Male          484              84.027778\n",
       "1                 Female           81              14.062500\n",
       "2  Other / Non-Disclosed           11               1.909722"
      ]
     },
     "execution_count": 18,
     "metadata": {},
     "output_type": "execute_result"
    }
   ],
   "source": [
    "df_Gender_Demographics = pd.DataFrame({\n",
    "                         'Gender':['Male', 'Female', 'Other / Non-Disclosed'],\n",
    "                         'Total Count' : [male_count, female_count, NonDisclosed],\n",
    "                         'Percentage of Players' : [malePrecentage, femalePrecentage, NonDisclosedPrecentage]\n",
    "})\n",
    "df_Gender_Demographics"
   ]
  },
  {
   "cell_type": "markdown",
   "metadata": {},
   "source": [
    "### Purchasing Analysis (Gender)"
   ]
  },
  {
   "cell_type": "code",
   "execution_count": 19,
   "metadata": {},
   "outputs": [
    {
     "data": {
      "text/plain": [
       "2379.77"
      ]
     },
     "execution_count": 19,
     "metadata": {},
     "output_type": "execute_result"
    }
   ],
   "source": [
    "#total  \n",
    "total_number_purchases = df.count()['Gender']\n",
    "total_sum_purchases = df['Price'].sum()\n",
    "total_sum_purchases"
   ]
  },
  {
   "cell_type": "code",
   "execution_count": 20,
   "metadata": {},
   "outputs": [],
   "source": [
    "last = total_num_purchases_male = df['Gender'].value_counts()['Male']"
   ]
  },
  {
   "cell_type": "code",
   "execution_count": 21,
   "metadata": {},
   "outputs": [
    {
     "data": {
      "text/plain": [
       "652"
      ]
     },
     "execution_count": 21,
     "metadata": {},
     "output_type": "execute_result"
    }
   ],
   "source": [
    "# purchase count male\n",
    "total_num_purchases_male = df['Gender'].value_counts()['Male']\n",
    "total_num_purchases_male"
   ]
  },
  {
   "cell_type": "code",
   "execution_count": 22,
   "metadata": {},
   "outputs": [
    {
     "data": {
      "text/plain": [
       "Price    1967.64\n",
       "dtype: float64"
      ]
     },
     "execution_count": 22,
     "metadata": {},
     "output_type": "execute_result"
    }
   ],
   "source": [
    "#Total spent male\n",
    "total_spent_male = df.loc[df['Gender']=='Male', ['Price']].sum()\n",
    "total_spent_male"
   ]
  },
  {
   "cell_type": "code",
   "execution_count": 23,
   "metadata": {},
   "outputs": [
    {
     "data": {
      "text/plain": [
       "113"
      ]
     },
     "execution_count": 23,
     "metadata": {},
     "output_type": "execute_result"
    }
   ],
   "source": [
    "# purchase count female\n",
    "total_num_purchases_female = df['Gender'].value_counts()['Female']\n",
    "total_num_purchases_female"
   ]
  },
  {
   "cell_type": "code",
   "execution_count": 24,
   "metadata": {},
   "outputs": [
    {
     "data": {
      "text/plain": [
       "Price    361.94\n",
       "dtype: float64"
      ]
     },
     "execution_count": 24,
     "metadata": {},
     "output_type": "execute_result"
    }
   ],
   "source": [
    "#Total spent female\n",
    "total_spent_female = df.loc[df['Gender']=='Female', ['Price']].sum()\n",
    "total_spent_female"
   ]
  },
  {
   "cell_type": "code",
   "execution_count": 25,
   "metadata": {},
   "outputs": [
    {
     "data": {
      "text/plain": [
       "15"
      ]
     },
     "execution_count": 25,
     "metadata": {},
     "output_type": "execute_result"
    }
   ],
   "source": [
    "# purchase count undi\n",
    "total_num_purchases_undi = df['Gender'].value_counts()['Other / Non-Disclosed']\n",
    "total_num_purchases_undi"
   ]
  },
  {
   "cell_type": "code",
   "execution_count": 26,
   "metadata": {},
   "outputs": [
    {
     "data": {
      "text/plain": [
       "Price    50.19\n",
       "dtype: float64"
      ]
     },
     "execution_count": 26,
     "metadata": {},
     "output_type": "execute_result"
    }
   ],
   "source": [
    "#Total spent undi\n",
    "total_spent_undi = df.loc[df['Gender']=='Other / Non-Disclosed', ['Price']].sum()\n",
    "total_spent_undi"
   ]
  },
  {
   "cell_type": "code",
   "execution_count": 27,
   "metadata": {},
   "outputs": [],
   "source": [
    "#  Average Purchase Total per Person Male\n",
    "maleav = df.loc[df['Gender']=='Male', ['Price']].mean()"
   ]
  },
  {
   "cell_type": "code",
   "execution_count": 28,
   "metadata": {},
   "outputs": [],
   "source": [
    "#  Average Purchase Total per Person female\n",
    "femaleav = df.loc[df['Gender']=='Female', ['Price']].mean()"
   ]
  },
  {
   "cell_type": "code",
   "execution_count": 29,
   "metadata": {},
   "outputs": [],
   "source": [
    "#  Average Purchase Total per Person undi\n",
    "undiav = df.loc[df['Gender']=='Other / Non-Disclosed', ['Price']].mean()"
   ]
  },
  {
   "cell_type": "code",
   "execution_count": 30,
   "metadata": {},
   "outputs": [],
   "source": [
    "sum_grouped = df.groupby(['SN', 'Gender'])['Price'].sum()"
   ]
  },
  {
   "cell_type": "code",
   "execution_count": 31,
   "metadata": {},
   "outputs": [
    {
     "data": {
      "text/plain": [
       "Gender\n",
       "Female                   4.468395\n",
       "Male                     4.065372\n",
       "Other / Non-Disclosed    4.562727\n",
       "Name: Sum, dtype: float64"
      ]
     },
     "execution_count": 31,
     "metadata": {},
     "output_type": "execute_result"
    }
   ],
   "source": [
    "dataFrame = pd.DataFrame({'Sum': sum_grouped})\n",
    "dataFrame.groupby('Gender')['Sum'].mean()"
   ]
  },
  {
   "cell_type": "code",
   "execution_count": 32,
   "metadata": {},
   "outputs": [
    {
     "data": {
      "text/html": [
       "<div>\n",
       "<style scoped>\n",
       "    .dataframe tbody tr th:only-of-type {\n",
       "        vertical-align: middle;\n",
       "    }\n",
       "\n",
       "    .dataframe tbody tr th {\n",
       "        vertical-align: top;\n",
       "    }\n",
       "\n",
       "    .dataframe thead th {\n",
       "        text-align: right;\n",
       "    }\n",
       "</style>\n",
       "<table border=\"1\" class=\"dataframe\">\n",
       "  <thead>\n",
       "    <tr style=\"text-align: right;\">\n",
       "      <th></th>\n",
       "      <th>Mean per person-gender</th>\n",
       "    </tr>\n",
       "    <tr>\n",
       "      <th>Gender</th>\n",
       "      <th></th>\n",
       "    </tr>\n",
       "  </thead>\n",
       "  <tbody>\n",
       "    <tr>\n",
       "      <th>Female</th>\n",
       "      <td>4.468395</td>\n",
       "    </tr>\n",
       "    <tr>\n",
       "      <th>Male</th>\n",
       "      <td>4.065372</td>\n",
       "    </tr>\n",
       "    <tr>\n",
       "      <th>Other / Non-Disclosed</th>\n",
       "      <td>4.562727</td>\n",
       "    </tr>\n",
       "  </tbody>\n",
       "</table>\n",
       "</div>"
      ],
      "text/plain": [
       "                       Mean per person-gender\n",
       "Gender                                       \n",
       "Female                               4.468395\n",
       "Male                                 4.065372\n",
       "Other / Non-Disclosed                4.562727"
      ]
     },
     "execution_count": 32,
     "metadata": {},
     "output_type": "execute_result"
    }
   ],
   "source": [
    "per_person_per_gender_df = pd.DataFrame({'Mean per person-gender': dataFrame.groupby('Gender')['Sum'].mean()})\n",
    "per_person_per_gender_df"
   ]
  },
  {
   "cell_type": "code",
   "execution_count": 33,
   "metadata": {},
   "outputs": [
    {
     "data": {
      "text/html": [
       "<div>\n",
       "<style scoped>\n",
       "    .dataframe tbody tr th:only-of-type {\n",
       "        vertical-align: middle;\n",
       "    }\n",
       "\n",
       "    .dataframe tbody tr th {\n",
       "        vertical-align: top;\n",
       "    }\n",
       "\n",
       "    .dataframe thead th {\n",
       "        text-align: right;\n",
       "    }\n",
       "</style>\n",
       "<table border=\"1\" class=\"dataframe\">\n",
       "  <thead>\n",
       "    <tr style=\"text-align: right;\">\n",
       "      <th></th>\n",
       "      <th>Gender</th>\n",
       "      <th>Purchase Count</th>\n",
       "      <th>Average Purchase Price</th>\n",
       "      <th>Total Purchase Value</th>\n",
       "      <th>Mean per person-gender</th>\n",
       "    </tr>\n",
       "  </thead>\n",
       "  <tbody>\n",
       "    <tr>\n",
       "      <th>0</th>\n",
       "      <td>Male</td>\n",
       "      <td>652</td>\n",
       "      <td>3.017853</td>\n",
       "      <td>1967.64</td>\n",
       "      <td>4.065372</td>\n",
       "    </tr>\n",
       "    <tr>\n",
       "      <th>1</th>\n",
       "      <td>Female</td>\n",
       "      <td>113</td>\n",
       "      <td>3.203009</td>\n",
       "      <td>361.94</td>\n",
       "      <td>4.468395</td>\n",
       "    </tr>\n",
       "    <tr>\n",
       "      <th>2</th>\n",
       "      <td>Other / Non-Disclosed</td>\n",
       "      <td>15</td>\n",
       "      <td>3.346000</td>\n",
       "      <td>50.00</td>\n",
       "      <td>4.562727</td>\n",
       "    </tr>\n",
       "  </tbody>\n",
       "</table>\n",
       "</div>"
      ],
      "text/plain": [
       "                  Gender  Purchase Count  Average Purchase Price  \\\n",
       "0                   Male             652                3.017853   \n",
       "1                 Female             113                3.203009   \n",
       "2  Other / Non-Disclosed              15                3.346000   \n",
       "\n",
       "   Total Purchase Value  Mean per person-gender  \n",
       "0               1967.64                4.065372  \n",
       "1                361.94                4.468395  \n",
       "2                 50.00                4.562727  "
      ]
     },
     "execution_count": 33,
     "metadata": {},
     "output_type": "execute_result"
    }
   ],
   "source": [
    "Purchasing_Analysis_Gender_df = pd.DataFrame({\n",
    "    'Gender': ['Male', 'Female', 'Other / Non-Disclosed'],\n",
    "    'Purchase Count': [total_num_purchases_male, total_num_purchases_female, int(total_num_purchases_undi)],\n",
    "    'Average Purchase Price': [float(maleav), float(femaleav), float(undiav)],\n",
    "    'Total Purchase Value' : [float(total_spent_male), float(total_spent_female), int(total_spent_undi)]\n",
    "})\n",
    "Purchasing_Analysis_Gender_df.merge(per_person_per_gender_df, on='Gender')"
   ]
  },
  {
   "cell_type": "markdown",
   "metadata": {},
   "source": [
    "### Age Demographics\n",
    "\n"
   ]
  },
  {
   "cell_type": "code",
   "execution_count": 34,
   "metadata": {},
   "outputs": [
    {
     "data": {
      "text/html": [
       "<div>\n",
       "<style scoped>\n",
       "    .dataframe tbody tr th:only-of-type {\n",
       "        vertical-align: middle;\n",
       "    }\n",
       "\n",
       "    .dataframe tbody tr th {\n",
       "        vertical-align: top;\n",
       "    }\n",
       "\n",
       "    .dataframe thead th {\n",
       "        text-align: right;\n",
       "    }\n",
       "</style>\n",
       "<table border=\"1\" class=\"dataframe\">\n",
       "  <thead>\n",
       "    <tr style=\"text-align: right;\">\n",
       "      <th></th>\n",
       "      <th>Purchase ID</th>\n",
       "      <th>SN</th>\n",
       "      <th>Age</th>\n",
       "      <th>Gender</th>\n",
       "      <th>Item ID</th>\n",
       "      <th>Item Name</th>\n",
       "      <th>Price</th>\n",
       "      <th>Age Range</th>\n",
       "    </tr>\n",
       "  </thead>\n",
       "  <tbody>\n",
       "    <tr>\n",
       "      <th>0</th>\n",
       "      <td>0</td>\n",
       "      <td>Lisim78</td>\n",
       "      <td>20</td>\n",
       "      <td>Male</td>\n",
       "      <td>108</td>\n",
       "      <td>Extraction, Quickblade Of Trembling Hands</td>\n",
       "      <td>3.53</td>\n",
       "      <td>20-24</td>\n",
       "    </tr>\n",
       "    <tr>\n",
       "      <th>1</th>\n",
       "      <td>1</td>\n",
       "      <td>Lisovynya38</td>\n",
       "      <td>40</td>\n",
       "      <td>Male</td>\n",
       "      <td>143</td>\n",
       "      <td>Frenzied Scimitar</td>\n",
       "      <td>1.56</td>\n",
       "      <td>40+</td>\n",
       "    </tr>\n",
       "    <tr>\n",
       "      <th>2</th>\n",
       "      <td>2</td>\n",
       "      <td>Ithergue48</td>\n",
       "      <td>24</td>\n",
       "      <td>Male</td>\n",
       "      <td>92</td>\n",
       "      <td>Final Critic</td>\n",
       "      <td>4.88</td>\n",
       "      <td>20-24</td>\n",
       "    </tr>\n",
       "    <tr>\n",
       "      <th>3</th>\n",
       "      <td>3</td>\n",
       "      <td>Chamassasya86</td>\n",
       "      <td>24</td>\n",
       "      <td>Male</td>\n",
       "      <td>100</td>\n",
       "      <td>Blindscythe</td>\n",
       "      <td>3.27</td>\n",
       "      <td>20-24</td>\n",
       "    </tr>\n",
       "    <tr>\n",
       "      <th>4</th>\n",
       "      <td>4</td>\n",
       "      <td>Iskosia90</td>\n",
       "      <td>23</td>\n",
       "      <td>Male</td>\n",
       "      <td>131</td>\n",
       "      <td>Fury</td>\n",
       "      <td>1.44</td>\n",
       "      <td>20-24</td>\n",
       "    </tr>\n",
       "  </tbody>\n",
       "</table>\n",
       "</div>"
      ],
      "text/plain": [
       "   Purchase ID             SN  Age Gender  Item ID  \\\n",
       "0            0        Lisim78   20   Male      108   \n",
       "1            1    Lisovynya38   40   Male      143   \n",
       "2            2     Ithergue48   24   Male       92   \n",
       "3            3  Chamassasya86   24   Male      100   \n",
       "4            4      Iskosia90   23   Male      131   \n",
       "\n",
       "                                   Item Name  Price Age Range  \n",
       "0  Extraction, Quickblade Of Trembling Hands   3.53     20-24  \n",
       "1                          Frenzied Scimitar   1.56       40+  \n",
       "2                               Final Critic   4.88     20-24  \n",
       "3                                Blindscythe   3.27     20-24  \n",
       "4                                       Fury   1.44     20-24  "
      ]
     },
     "execution_count": 34,
     "metadata": {},
     "output_type": "execute_result"
    }
   ],
   "source": [
    "bins = [0, 9, 15, 19,24,29,34,39,49]\n",
    "labels = ['<10','10-14', '15-19','20-24','25-29', '30-34','35-39','40+']\n",
    "pd.cut(df['Age'],bins,labels=labels)\n",
    "df2 = df.sort_values(by='Purchase ID')\n",
    "\n",
    "df2['Age Range'] = pd.cut(df['Age'],bins,labels=labels)\n",
    "df2.head()"
   ]
  },
  {
   "cell_type": "code",
   "execution_count": 35,
   "metadata": {},
   "outputs": [],
   "source": [
    "ageRangeCount = df2.groupby('Age Range')['Price'].count()"
   ]
  },
  {
   "cell_type": "code",
   "execution_count": 36,
   "metadata": {},
   "outputs": [],
   "source": [
    "averagePrice = df2.groupby('Age Range')['Price'].mean()"
   ]
  },
  {
   "cell_type": "code",
   "execution_count": 37,
   "metadata": {},
   "outputs": [],
   "source": [
    "TotalPurchaseValue = df2.groupby('Age Range')['Price'].sum()"
   ]
  },
  {
   "cell_type": "code",
   "execution_count": 38,
   "metadata": {},
   "outputs": [
    {
     "data": {
      "text/plain": [
       "Age Range  SN          \n",
       "<10        Anallorgue57    5.70\n",
       "           Chadjask77      4.93\n",
       "           Chanossast57    4.32\n",
       "           Eurithphos97    4.55\n",
       "           Eusri44         3.09\n",
       "Name: Price, dtype: float64"
      ]
     },
     "execution_count": 38,
     "metadata": {},
     "output_type": "execute_result"
    }
   ],
   "source": [
    "averagePricePerPerson = df2.groupby(['Age Range','SN'])['Price'].sum()\n",
    "averagePricePerPerson.head(5)"
   ]
  },
  {
   "cell_type": "code",
   "execution_count": 39,
   "metadata": {},
   "outputs": [
    {
     "data": {
      "text/plain": [
       "Age Range\n",
       "<10      4.537059\n",
       "10-14    3.925625\n",
       "15-19    3.793086\n",
       "20-24    4.318062\n",
       "25-29    3.805195\n",
       "30-34    4.115385\n",
       "35-39    4.763548\n",
       "40+      3.186667\n",
       "Name: Price, dtype: float64"
      ]
     },
     "execution_count": 39,
     "metadata": {},
     "output_type": "execute_result"
    }
   ],
   "source": [
    "averagePricePerPerson1 = averagePricePerPerson.groupby('Age Range').mean()\n",
    "averagePricePerPerson1"
   ]
  },
  {
   "cell_type": "code",
   "execution_count": 40,
   "metadata": {},
   "outputs": [
    {
     "data": {
      "text/html": [
       "<div>\n",
       "<style scoped>\n",
       "    .dataframe tbody tr th:only-of-type {\n",
       "        vertical-align: middle;\n",
       "    }\n",
       "\n",
       "    .dataframe tbody tr th {\n",
       "        vertical-align: top;\n",
       "    }\n",
       "\n",
       "    .dataframe thead th {\n",
       "        text-align: right;\n",
       "    }\n",
       "</style>\n",
       "<table border=\"1\" class=\"dataframe\">\n",
       "  <thead>\n",
       "    <tr style=\"text-align: right;\">\n",
       "      <th></th>\n",
       "      <th>Count</th>\n",
       "      <th>Average Purchase Price</th>\n",
       "      <th>Total Purchase Value</th>\n",
       "      <th>Avg Total Purchase per Person</th>\n",
       "    </tr>\n",
       "    <tr>\n",
       "      <th>Age Range</th>\n",
       "      <th></th>\n",
       "      <th></th>\n",
       "      <th></th>\n",
       "      <th></th>\n",
       "    </tr>\n",
       "  </thead>\n",
       "  <tbody>\n",
       "    <tr>\n",
       "      <th>&lt;10</th>\n",
       "      <td>23</td>\n",
       "      <td>3.35</td>\n",
       "      <td>77.13</td>\n",
       "      <td>4.537059</td>\n",
       "    </tr>\n",
       "    <tr>\n",
       "      <th>10-14</th>\n",
       "      <td>63</td>\n",
       "      <td>2.99</td>\n",
       "      <td>188.43</td>\n",
       "      <td>3.925625</td>\n",
       "    </tr>\n",
       "    <tr>\n",
       "      <th>15-19</th>\n",
       "      <td>101</td>\n",
       "      <td>3.04</td>\n",
       "      <td>307.24</td>\n",
       "      <td>3.793086</td>\n",
       "    </tr>\n",
       "    <tr>\n",
       "      <th>20-24</th>\n",
       "      <td>365</td>\n",
       "      <td>3.05</td>\n",
       "      <td>1114.06</td>\n",
       "      <td>4.318062</td>\n",
       "    </tr>\n",
       "    <tr>\n",
       "      <th>25-29</th>\n",
       "      <td>101</td>\n",
       "      <td>2.90</td>\n",
       "      <td>293.00</td>\n",
       "      <td>3.805195</td>\n",
       "    </tr>\n",
       "    <tr>\n",
       "      <th>30-34</th>\n",
       "      <td>73</td>\n",
       "      <td>2.93</td>\n",
       "      <td>214.00</td>\n",
       "      <td>4.115385</td>\n",
       "    </tr>\n",
       "    <tr>\n",
       "      <th>35-39</th>\n",
       "      <td>41</td>\n",
       "      <td>3.60</td>\n",
       "      <td>147.67</td>\n",
       "      <td>4.763548</td>\n",
       "    </tr>\n",
       "    <tr>\n",
       "      <th>40+</th>\n",
       "      <td>13</td>\n",
       "      <td>2.94</td>\n",
       "      <td>38.24</td>\n",
       "      <td>3.186667</td>\n",
       "    </tr>\n",
       "  </tbody>\n",
       "</table>\n",
       "</div>"
      ],
      "text/plain": [
       "           Count  Average Purchase Price  Total Purchase Value  \\\n",
       "Age Range                                                        \n",
       "<10           23                    3.35                 77.13   \n",
       "10-14         63                    2.99                188.43   \n",
       "15-19        101                    3.04                307.24   \n",
       "20-24        365                    3.05               1114.06   \n",
       "25-29        101                    2.90                293.00   \n",
       "30-34         73                    2.93                214.00   \n",
       "35-39         41                    3.60                147.67   \n",
       "40+           13                    2.94                 38.24   \n",
       "\n",
       "           Avg Total Purchase per Person  \n",
       "Age Range                                 \n",
       "<10                             4.537059  \n",
       "10-14                           3.925625  \n",
       "15-19                           3.793086  \n",
       "20-24                           4.318062  \n",
       "25-29                           3.805195  \n",
       "30-34                           4.115385  \n",
       "35-39                           4.763548  \n",
       "40+                             3.186667  "
      ]
     },
     "execution_count": 40,
     "metadata": {},
     "output_type": "execute_result"
    }
   ],
   "source": [
    "dataFramedemo = pd.DataFrame({\"Count\": ageRangeCount,\n",
    "                              \"Average Purchase Price\": round(averagePrice,2),\n",
    "                              \"Total Purchase Value\": TotalPurchaseValue,\n",
    "                              \"Avg Total Purchase per Person\" : averagePricePerPerson1})\n",
    "dataFramedemo"
   ]
  },
  {
   "cell_type": "code",
   "execution_count": null,
   "metadata": {},
   "outputs": [],
   "source": []
  },
  {
   "cell_type": "code",
   "execution_count": null,
   "metadata": {},
   "outputs": [],
   "source": []
  },
  {
   "cell_type": "code",
   "execution_count": null,
   "metadata": {},
   "outputs": [],
   "source": []
  },
  {
   "cell_type": "markdown",
   "metadata": {},
   "source": [
    "### Top Spenders"
   ]
  },
  {
   "cell_type": "code",
   "execution_count": 41,
   "metadata": {},
   "outputs": [
    {
     "data": {
      "text/html": [
       "<div>\n",
       "<style scoped>\n",
       "    .dataframe tbody tr th:only-of-type {\n",
       "        vertical-align: middle;\n",
       "    }\n",
       "\n",
       "    .dataframe tbody tr th {\n",
       "        vertical-align: top;\n",
       "    }\n",
       "\n",
       "    .dataframe thead th {\n",
       "        text-align: right;\n",
       "    }\n",
       "</style>\n",
       "<table border=\"1\" class=\"dataframe\">\n",
       "  <thead>\n",
       "    <tr style=\"text-align: right;\">\n",
       "      <th></th>\n",
       "      <th>Total Purchase per person</th>\n",
       "      <th>Purchase Count</th>\n",
       "      <th>Average Purchase Price</th>\n",
       "    </tr>\n",
       "    <tr>\n",
       "      <th>SN</th>\n",
       "      <th></th>\n",
       "      <th></th>\n",
       "      <th></th>\n",
       "    </tr>\n",
       "  </thead>\n",
       "  <tbody>\n",
       "    <tr>\n",
       "      <th>Lisosia93</th>\n",
       "      <td>18.96</td>\n",
       "      <td>5</td>\n",
       "      <td>3.79</td>\n",
       "    </tr>\n",
       "    <tr>\n",
       "      <th>Idastidru52</th>\n",
       "      <td>15.45</td>\n",
       "      <td>4</td>\n",
       "      <td>3.86</td>\n",
       "    </tr>\n",
       "    <tr>\n",
       "      <th>Chamjask73</th>\n",
       "      <td>13.83</td>\n",
       "      <td>3</td>\n",
       "      <td>4.61</td>\n",
       "    </tr>\n",
       "    <tr>\n",
       "      <th>Iral74</th>\n",
       "      <td>13.62</td>\n",
       "      <td>4</td>\n",
       "      <td>3.40</td>\n",
       "    </tr>\n",
       "    <tr>\n",
       "      <th>Iskadarya95</th>\n",
       "      <td>13.10</td>\n",
       "      <td>3</td>\n",
       "      <td>4.37</td>\n",
       "    </tr>\n",
       "  </tbody>\n",
       "</table>\n",
       "</div>"
      ],
      "text/plain": [
       "             Total Purchase per person  Purchase Count  Average Purchase Price\n",
       "SN                                                                            \n",
       "Lisosia93                        18.96               5                    3.79\n",
       "Idastidru52                      15.45               4                    3.86\n",
       "Chamjask73                       13.83               3                    4.61\n",
       "Iral74                           13.62               4                    3.40\n",
       "Iskadarya95                      13.10               3                    4.37"
      ]
     },
     "execution_count": 41,
     "metadata": {},
     "output_type": "execute_result"
    }
   ],
   "source": [
    "summed = df.groupby('SN')['Price'].sum()\n",
    "count = df.groupby('SN')['Price'].count()\n",
    "average = df.groupby('SN')['Price'].mean()\n",
    "\n",
    "dfAverages = pd.DataFrame({'Total Purchase per person':summed})\n",
    "dfAverages = dfAverages.sort_values('Total Purchase per person', ascending=False).head(5)\n",
    "dfAverages['Purchase Count'] = count\n",
    "dfAverages['Average Purchase Price'] = round(average,2)\n",
    "dfAverages"
   ]
  },
  {
   "cell_type": "code",
   "execution_count": null,
   "metadata": {},
   "outputs": [],
   "source": []
  },
  {
   "cell_type": "code",
   "execution_count": null,
   "metadata": {},
   "outputs": [],
   "source": []
  },
  {
   "cell_type": "code",
   "execution_count": 42,
   "metadata": {},
   "outputs": [
    {
     "data": {
      "text/html": [
       "<div>\n",
       "<style scoped>\n",
       "    .dataframe tbody tr th:only-of-type {\n",
       "        vertical-align: middle;\n",
       "    }\n",
       "\n",
       "    .dataframe tbody tr th {\n",
       "        vertical-align: top;\n",
       "    }\n",
       "\n",
       "    .dataframe thead th {\n",
       "        text-align: right;\n",
       "    }\n",
       "</style>\n",
       "<table border=\"1\" class=\"dataframe\">\n",
       "  <thead>\n",
       "    <tr style=\"text-align: right;\">\n",
       "      <th></th>\n",
       "      <th>Purchase ID</th>\n",
       "      <th>SN</th>\n",
       "      <th>Age</th>\n",
       "      <th>Gender</th>\n",
       "      <th>Item ID</th>\n",
       "      <th>Item Name</th>\n",
       "      <th>Price</th>\n",
       "    </tr>\n",
       "  </thead>\n",
       "  <tbody>\n",
       "    <tr>\n",
       "      <th>467</th>\n",
       "      <td>467</td>\n",
       "      <td>Adairialis76</td>\n",
       "      <td>16</td>\n",
       "      <td>Male</td>\n",
       "      <td>123</td>\n",
       "      <td>Twilight's Carver</td>\n",
       "      <td>2.28</td>\n",
       "    </tr>\n",
       "    <tr>\n",
       "      <th>142</th>\n",
       "      <td>142</td>\n",
       "      <td>Adastirin33</td>\n",
       "      <td>35</td>\n",
       "      <td>Female</td>\n",
       "      <td>175</td>\n",
       "      <td>Woeful Adamantite Claymore</td>\n",
       "      <td>4.48</td>\n",
       "    </tr>\n",
       "  </tbody>\n",
       "</table>\n",
       "</div>"
      ],
      "text/plain": [
       "     Purchase ID            SN  Age  Gender  Item ID  \\\n",
       "467          467  Adairialis76   16    Male      123   \n",
       "142          142   Adastirin33   35  Female      175   \n",
       "\n",
       "                      Item Name  Price  \n",
       "467           Twilight's Carver   2.28  \n",
       "142  Woeful Adamantite Claymore   4.48  "
      ]
     },
     "execution_count": 42,
     "metadata": {},
     "output_type": "execute_result"
    }
   ],
   "source": [
    "df.head(2)"
   ]
  },
  {
   "cell_type": "code",
   "execution_count": null,
   "metadata": {},
   "outputs": [],
   "source": []
  },
  {
   "cell_type": "code",
   "execution_count": 43,
   "metadata": {},
   "outputs": [
    {
     "data": {
      "text/html": [
       "<div>\n",
       "<style scoped>\n",
       "    .dataframe tbody tr th:only-of-type {\n",
       "        vertical-align: middle;\n",
       "    }\n",
       "\n",
       "    .dataframe tbody tr th {\n",
       "        vertical-align: top;\n",
       "    }\n",
       "\n",
       "    .dataframe thead th {\n",
       "        text-align: right;\n",
       "    }\n",
       "</style>\n",
       "<table border=\"1\" class=\"dataframe\">\n",
       "  <thead>\n",
       "    <tr style=\"text-align: right;\">\n",
       "      <th></th>\n",
       "      <th>Purchase ID</th>\n",
       "      <th>SN</th>\n",
       "      <th>Age</th>\n",
       "      <th>Gender</th>\n",
       "      <th>Item ID</th>\n",
       "      <th>Item Name</th>\n",
       "      <th>Price</th>\n",
       "    </tr>\n",
       "  </thead>\n",
       "  <tbody>\n",
       "    <tr>\n",
       "      <th>467</th>\n",
       "      <td>467</td>\n",
       "      <td>Adairialis76</td>\n",
       "      <td>16</td>\n",
       "      <td>Male</td>\n",
       "      <td>123</td>\n",
       "      <td>Twilight's Carver</td>\n",
       "      <td>2.28</td>\n",
       "    </tr>\n",
       "    <tr>\n",
       "      <th>142</th>\n",
       "      <td>142</td>\n",
       "      <td>Adastirin33</td>\n",
       "      <td>35</td>\n",
       "      <td>Female</td>\n",
       "      <td>175</td>\n",
       "      <td>Woeful Adamantite Claymore</td>\n",
       "      <td>4.48</td>\n",
       "    </tr>\n",
       "    <tr>\n",
       "      <th>388</th>\n",
       "      <td>388</td>\n",
       "      <td>Aeda94</td>\n",
       "      <td>17</td>\n",
       "      <td>Male</td>\n",
       "      <td>128</td>\n",
       "      <td>Blazeguard, Reach of Eternity</td>\n",
       "      <td>4.91</td>\n",
       "    </tr>\n",
       "    <tr>\n",
       "      <th>28</th>\n",
       "      <td>28</td>\n",
       "      <td>Aela59</td>\n",
       "      <td>21</td>\n",
       "      <td>Male</td>\n",
       "      <td>119</td>\n",
       "      <td>Stormbringer, Dark Blade of Ending Misery</td>\n",
       "      <td>4.32</td>\n",
       "    </tr>\n",
       "    <tr>\n",
       "      <th>630</th>\n",
       "      <td>630</td>\n",
       "      <td>Aelaria33</td>\n",
       "      <td>23</td>\n",
       "      <td>Male</td>\n",
       "      <td>171</td>\n",
       "      <td>Scalpel</td>\n",
       "      <td>1.79</td>\n",
       "    </tr>\n",
       "  </tbody>\n",
       "</table>\n",
       "</div>"
      ],
      "text/plain": [
       "     Purchase ID            SN  Age  Gender  Item ID  \\\n",
       "467          467  Adairialis76   16    Male      123   \n",
       "142          142   Adastirin33   35  Female      175   \n",
       "388          388        Aeda94   17    Male      128   \n",
       "28            28        Aela59   21    Male      119   \n",
       "630          630     Aelaria33   23    Male      171   \n",
       "\n",
       "                                     Item Name  Price  \n",
       "467                          Twilight's Carver   2.28  \n",
       "142                 Woeful Adamantite Claymore   4.48  \n",
       "388              Blazeguard, Reach of Eternity   4.91  \n",
       "28   Stormbringer, Dark Blade of Ending Misery   4.32  \n",
       "630                                    Scalpel   1.79  "
      ]
     },
     "execution_count": 43,
     "metadata": {},
     "output_type": "execute_result"
    }
   ],
   "source": [
    "df.head()"
   ]
  },
  {
   "cell_type": "code",
   "execution_count": null,
   "metadata": {},
   "outputs": [],
   "source": []
  },
  {
   "cell_type": "markdown",
   "metadata": {},
   "source": [
    "## Most Popular Items"
   ]
  },
  {
   "cell_type": "markdown",
   "metadata": {},
   "source": [
    "### Most Popular Items\n",
    "\n",
    "* Identify the 5 most popular items by purchase count, then list (in a table):\n",
    "  * Item ID\n",
    "  * Item Name\n",
    "  * Purchase Count\n",
    "  * Item Price\n",
    "  * Total Purchase Value"
   ]
  },
  {
   "cell_type": "code",
   "execution_count": 73,
   "metadata": {},
   "outputs": [
    {
     "data": {
      "text/plain": [
       "Item Name\n",
       "Abyssal Shard                     5\n",
       "Aetherius, Boon of the Blessed    5\n",
       "Agatha                            6\n",
       "Alpha                             3\n",
       "Alpha, Oath of Zeal               3\n",
       "Name: Count, dtype: int64"
      ]
     },
     "execution_count": 73,
     "metadata": {},
     "output_type": "execute_result"
    }
   ],
   "source": [
    "grouped_by_itemName = df.groupby('Item Name')\n",
    "grouped_by_itemName_counts = grouped_by_itemName['SN'].count()\n",
    "countFrame = pd.DataFrame({'Count':grouped_by_itemName_counts})\n",
    "countFrame = countFrame['Count'].astype(int)\n",
    "countFrame.head(5)"
   ]
  },
  {
   "cell_type": "code",
   "execution_count": 81,
   "metadata": {},
   "outputs": [
    {
     "data": {
      "text/html": [
       "<div>\n",
       "<style scoped>\n",
       "    .dataframe tbody tr th:only-of-type {\n",
       "        vertical-align: middle;\n",
       "    }\n",
       "\n",
       "    .dataframe tbody tr th {\n",
       "        vertical-align: top;\n",
       "    }\n",
       "\n",
       "    .dataframe thead th {\n",
       "        text-align: right;\n",
       "    }\n",
       "</style>\n",
       "<table border=\"1\" class=\"dataframe\">\n",
       "  <thead>\n",
       "    <tr style=\"text-align: right;\">\n",
       "      <th></th>\n",
       "      <th>Purchase ID</th>\n",
       "      <th>SN</th>\n",
       "      <th>Age</th>\n",
       "      <th>Gender</th>\n",
       "      <th>Item ID</th>\n",
       "      <th>Item Name</th>\n",
       "      <th>Price</th>\n",
       "      <th>Count</th>\n",
       "    </tr>\n",
       "  </thead>\n",
       "  <tbody>\n",
       "    <tr>\n",
       "      <th>467</th>\n",
       "      <td>467</td>\n",
       "      <td>Adairialis76</td>\n",
       "      <td>16</td>\n",
       "      <td>Male</td>\n",
       "      <td>123</td>\n",
       "      <td>Twilight's Carver</td>\n",
       "      <td>2.28</td>\n",
       "      <td>NaN</td>\n",
       "    </tr>\n",
       "    <tr>\n",
       "      <th>142</th>\n",
       "      <td>142</td>\n",
       "      <td>Adastirin33</td>\n",
       "      <td>35</td>\n",
       "      <td>Female</td>\n",
       "      <td>175</td>\n",
       "      <td>Woeful Adamantite Claymore</td>\n",
       "      <td>4.48</td>\n",
       "      <td>NaN</td>\n",
       "    </tr>\n",
       "    <tr>\n",
       "      <th>388</th>\n",
       "      <td>388</td>\n",
       "      <td>Aeda94</td>\n",
       "      <td>17</td>\n",
       "      <td>Male</td>\n",
       "      <td>128</td>\n",
       "      <td>Blazeguard, Reach of Eternity</td>\n",
       "      <td>4.91</td>\n",
       "      <td>NaN</td>\n",
       "    </tr>\n",
       "    <tr>\n",
       "      <th>28</th>\n",
       "      <td>28</td>\n",
       "      <td>Aela59</td>\n",
       "      <td>21</td>\n",
       "      <td>Male</td>\n",
       "      <td>119</td>\n",
       "      <td>Stormbringer, Dark Blade of Ending Misery</td>\n",
       "      <td>4.32</td>\n",
       "      <td>NaN</td>\n",
       "    </tr>\n",
       "    <tr>\n",
       "      <th>630</th>\n",
       "      <td>630</td>\n",
       "      <td>Aelaria33</td>\n",
       "      <td>23</td>\n",
       "      <td>Male</td>\n",
       "      <td>171</td>\n",
       "      <td>Scalpel</td>\n",
       "      <td>1.79</td>\n",
       "      <td>NaN</td>\n",
       "    </tr>\n",
       "    <tr>\n",
       "      <th>766</th>\n",
       "      <td>766</td>\n",
       "      <td>Aelastirin39</td>\n",
       "      <td>23</td>\n",
       "      <td>Male</td>\n",
       "      <td>58</td>\n",
       "      <td>Freak's Bite, Favor of Holy Might</td>\n",
       "      <td>4.14</td>\n",
       "      <td>NaN</td>\n",
       "    </tr>\n",
       "    <tr>\n",
       "      <th>218</th>\n",
       "      <td>218</td>\n",
       "      <td>Aelastirin39</td>\n",
       "      <td>23</td>\n",
       "      <td>Male</td>\n",
       "      <td>76</td>\n",
       "      <td>Haunted Bronzed Bludgeon</td>\n",
       "      <td>3.15</td>\n",
       "      <td>NaN</td>\n",
       "    </tr>\n",
       "    <tr>\n",
       "      <th>705</th>\n",
       "      <td>705</td>\n",
       "      <td>Aelidru27</td>\n",
       "      <td>22</td>\n",
       "      <td>Male</td>\n",
       "      <td>183</td>\n",
       "      <td>Dragon's Greatsword</td>\n",
       "      <td>1.09</td>\n",
       "      <td>NaN</td>\n",
       "    </tr>\n",
       "    <tr>\n",
       "      <th>52</th>\n",
       "      <td>52</td>\n",
       "      <td>Aelin32</td>\n",
       "      <td>20</td>\n",
       "      <td>Male</td>\n",
       "      <td>60</td>\n",
       "      <td>Wolf</td>\n",
       "      <td>3.54</td>\n",
       "      <td>NaN</td>\n",
       "    </tr>\n",
       "    <tr>\n",
       "      <th>87</th>\n",
       "      <td>87</td>\n",
       "      <td>Aelin32</td>\n",
       "      <td>20</td>\n",
       "      <td>Male</td>\n",
       "      <td>151</td>\n",
       "      <td>Severance</td>\n",
       "      <td>3.40</td>\n",
       "      <td>NaN</td>\n",
       "    </tr>\n",
       "    <tr>\n",
       "      <th>584</th>\n",
       "      <td>584</td>\n",
       "      <td>Aelin32</td>\n",
       "      <td>20</td>\n",
       "      <td>Male</td>\n",
       "      <td>115</td>\n",
       "      <td>Spectral Diamond Doomblade</td>\n",
       "      <td>2.04</td>\n",
       "      <td>NaN</td>\n",
       "    </tr>\n",
       "    <tr>\n",
       "      <th>43</th>\n",
       "      <td>43</td>\n",
       "      <td>Aelly27</td>\n",
       "      <td>24</td>\n",
       "      <td>Male</td>\n",
       "      <td>116</td>\n",
       "      <td>Renewed Skeletal Katana</td>\n",
       "      <td>4.18</td>\n",
       "      <td>NaN</td>\n",
       "    </tr>\n",
       "    <tr>\n",
       "      <th>428</th>\n",
       "      <td>428</td>\n",
       "      <td>Aelly27</td>\n",
       "      <td>24</td>\n",
       "      <td>Male</td>\n",
       "      <td>14</td>\n",
       "      <td>Possessed Core</td>\n",
       "      <td>2.61</td>\n",
       "      <td>NaN</td>\n",
       "    </tr>\n",
       "    <tr>\n",
       "      <th>286</th>\n",
       "      <td>286</td>\n",
       "      <td>Aellynun67</td>\n",
       "      <td>25</td>\n",
       "      <td>Male</td>\n",
       "      <td>153</td>\n",
       "      <td>Mercenary Sabre</td>\n",
       "      <td>3.74</td>\n",
       "      <td>NaN</td>\n",
       "    </tr>\n",
       "    <tr>\n",
       "      <th>746</th>\n",
       "      <td>746</td>\n",
       "      <td>Aellyria80</td>\n",
       "      <td>23</td>\n",
       "      <td>Male</td>\n",
       "      <td>159</td>\n",
       "      <td>Oathbreaker, Spellblade of Trials</td>\n",
       "      <td>3.08</td>\n",
       "      <td>NaN</td>\n",
       "    </tr>\n",
       "    <tr>\n",
       "      <th>203</th>\n",
       "      <td>203</td>\n",
       "      <td>Aelollo59</td>\n",
       "      <td>33</td>\n",
       "      <td>Male</td>\n",
       "      <td>3</td>\n",
       "      <td>Phantomlight</td>\n",
       "      <td>2.49</td>\n",
       "      <td>NaN</td>\n",
       "    </tr>\n",
       "    <tr>\n",
       "      <th>431</th>\n",
       "      <td>431</td>\n",
       "      <td>Aelollo59</td>\n",
       "      <td>33</td>\n",
       "      <td>Male</td>\n",
       "      <td>172</td>\n",
       "      <td>Blade of the Grave</td>\n",
       "      <td>3.14</td>\n",
       "      <td>NaN</td>\n",
       "    </tr>\n",
       "    <tr>\n",
       "      <th>183</th>\n",
       "      <td>183</td>\n",
       "      <td>Aenarap34</td>\n",
       "      <td>21</td>\n",
       "      <td>Male</td>\n",
       "      <td>15</td>\n",
       "      <td>Soul Infused Crystal</td>\n",
       "      <td>2.96</td>\n",
       "      <td>NaN</td>\n",
       "    </tr>\n",
       "    <tr>\n",
       "      <th>263</th>\n",
       "      <td>263</td>\n",
       "      <td>Aeral43</td>\n",
       "      <td>24</td>\n",
       "      <td>Male</td>\n",
       "      <td>78</td>\n",
       "      <td>Glimmer, Ender of the Moon</td>\n",
       "      <td>4.40</td>\n",
       "      <td>NaN</td>\n",
       "    </tr>\n",
       "    <tr>\n",
       "      <th>674</th>\n",
       "      <td>674</td>\n",
       "      <td>Aeral68</td>\n",
       "      <td>43</td>\n",
       "      <td>Male</td>\n",
       "      <td>77</td>\n",
       "      <td>Piety, Guardian of Riddles</td>\n",
       "      <td>4.00</td>\n",
       "      <td>NaN</td>\n",
       "    </tr>\n",
       "    <tr>\n",
       "      <th>167</th>\n",
       "      <td>167</td>\n",
       "      <td>Aeral97</td>\n",
       "      <td>23</td>\n",
       "      <td>Male</td>\n",
       "      <td>157</td>\n",
       "      <td>Spada, Etcher of Hatred</td>\n",
       "      <td>4.80</td>\n",
       "      <td>NaN</td>\n",
       "    </tr>\n",
       "    <tr>\n",
       "      <th>32</th>\n",
       "      <td>32</td>\n",
       "      <td>Aeralria27</td>\n",
       "      <td>10</td>\n",
       "      <td>Male</td>\n",
       "      <td>133</td>\n",
       "      <td>Faith's Scimitar</td>\n",
       "      <td>4.09</td>\n",
       "      <td>NaN</td>\n",
       "    </tr>\n",
       "    <tr>\n",
       "      <th>583</th>\n",
       "      <td>583</td>\n",
       "      <td>Aeralstical35</td>\n",
       "      <td>20</td>\n",
       "      <td>Male</td>\n",
       "      <td>49</td>\n",
       "      <td>The Oculus, Token of Lost Worlds</td>\n",
       "      <td>2.96</td>\n",
       "      <td>NaN</td>\n",
       "    </tr>\n",
       "    <tr>\n",
       "      <th>303</th>\n",
       "      <td>303</td>\n",
       "      <td>Aeri84</td>\n",
       "      <td>24</td>\n",
       "      <td>Male</td>\n",
       "      <td>71</td>\n",
       "      <td>Demise</td>\n",
       "      <td>1.61</td>\n",
       "      <td>NaN</td>\n",
       "    </tr>\n",
       "    <tr>\n",
       "      <th>381</th>\n",
       "      <td>381</td>\n",
       "      <td>Aerillorin70</td>\n",
       "      <td>16</td>\n",
       "      <td>Male</td>\n",
       "      <td>83</td>\n",
       "      <td>Lifebender</td>\n",
       "      <td>3.33</td>\n",
       "      <td>NaN</td>\n",
       "    </tr>\n",
       "    <tr>\n",
       "      <th>274</th>\n",
       "      <td>274</td>\n",
       "      <td>Aerithllora36</td>\n",
       "      <td>29</td>\n",
       "      <td>Female</td>\n",
       "      <td>82</td>\n",
       "      <td>Nirvana</td>\n",
       "      <td>4.90</td>\n",
       "      <td>NaN</td>\n",
       "    </tr>\n",
       "    <tr>\n",
       "      <th>578</th>\n",
       "      <td>578</td>\n",
       "      <td>Aerithllora36</td>\n",
       "      <td>29</td>\n",
       "      <td>Female</td>\n",
       "      <td>153</td>\n",
       "      <td>Mercenary Sabre</td>\n",
       "      <td>3.74</td>\n",
       "      <td>NaN</td>\n",
       "    </tr>\n",
       "    <tr>\n",
       "      <th>324</th>\n",
       "      <td>324</td>\n",
       "      <td>Aerithnucal56</td>\n",
       "      <td>15</td>\n",
       "      <td>Male</td>\n",
       "      <td>154</td>\n",
       "      <td>Feral Katana</td>\n",
       "      <td>4.40</td>\n",
       "      <td>NaN</td>\n",
       "    </tr>\n",
       "    <tr>\n",
       "      <th>517</th>\n",
       "      <td>517</td>\n",
       "      <td>Aerithnuphos61</td>\n",
       "      <td>39</td>\n",
       "      <td>Male</td>\n",
       "      <td>128</td>\n",
       "      <td>Blazeguard, Reach of Eternity</td>\n",
       "      <td>4.91</td>\n",
       "      <td>NaN</td>\n",
       "    </tr>\n",
       "    <tr>\n",
       "      <th>40</th>\n",
       "      <td>40</td>\n",
       "      <td>Aerithriaphos45</td>\n",
       "      <td>20</td>\n",
       "      <td>Male</td>\n",
       "      <td>143</td>\n",
       "      <td>Frenzied Scimitar</td>\n",
       "      <td>1.56</td>\n",
       "      <td>NaN</td>\n",
       "    </tr>\n",
       "    <tr>\n",
       "      <th>...</th>\n",
       "      <td>...</td>\n",
       "      <td>...</td>\n",
       "      <td>...</td>\n",
       "      <td>...</td>\n",
       "      <td>...</td>\n",
       "      <td>...</td>\n",
       "      <td>...</td>\n",
       "      <td>...</td>\n",
       "    </tr>\n",
       "    <tr>\n",
       "      <th>421</th>\n",
       "      <td>421</td>\n",
       "      <td>Yadaphos40</td>\n",
       "      <td>30</td>\n",
       "      <td>Male</td>\n",
       "      <td>26</td>\n",
       "      <td>Unholy Wand</td>\n",
       "      <td>1.12</td>\n",
       "      <td>NaN</td>\n",
       "    </tr>\n",
       "    <tr>\n",
       "      <th>62</th>\n",
       "      <td>62</td>\n",
       "      <td>Yadaphos40</td>\n",
       "      <td>30</td>\n",
       "      <td>Male</td>\n",
       "      <td>178</td>\n",
       "      <td>Oathbreaker, Last Hope of the Breaking Storm</td>\n",
       "      <td>4.23</td>\n",
       "      <td>NaN</td>\n",
       "    </tr>\n",
       "    <tr>\n",
       "      <th>5</th>\n",
       "      <td>5</td>\n",
       "      <td>Yalae81</td>\n",
       "      <td>22</td>\n",
       "      <td>Male</td>\n",
       "      <td>81</td>\n",
       "      <td>Dreamkiss</td>\n",
       "      <td>3.61</td>\n",
       "      <td>NaN</td>\n",
       "    </tr>\n",
       "    <tr>\n",
       "      <th>447</th>\n",
       "      <td>447</td>\n",
       "      <td>Yalae81</td>\n",
       "      <td>22</td>\n",
       "      <td>Male</td>\n",
       "      <td>120</td>\n",
       "      <td>Agatha</td>\n",
       "      <td>3.08</td>\n",
       "      <td>NaN</td>\n",
       "    </tr>\n",
       "    <tr>\n",
       "      <th>681</th>\n",
       "      <td>681</td>\n",
       "      <td>Yalaeria91</td>\n",
       "      <td>33</td>\n",
       "      <td>Male</td>\n",
       "      <td>28</td>\n",
       "      <td>Flux, Destroyer of Due Diligence</td>\n",
       "      <td>1.06</td>\n",
       "      <td>NaN</td>\n",
       "    </tr>\n",
       "    <tr>\n",
       "      <th>59</th>\n",
       "      <td>59</td>\n",
       "      <td>Yaliru88</td>\n",
       "      <td>19</td>\n",
       "      <td>Male</td>\n",
       "      <td>105</td>\n",
       "      <td>Hailstorm Shadowsteel Scythe</td>\n",
       "      <td>3.03</td>\n",
       "      <td>NaN</td>\n",
       "    </tr>\n",
       "    <tr>\n",
       "      <th>383</th>\n",
       "      <td>383</td>\n",
       "      <td>Yalo85</td>\n",
       "      <td>34</td>\n",
       "      <td>Male</td>\n",
       "      <td>11</td>\n",
       "      <td>Brimstone</td>\n",
       "      <td>3.65</td>\n",
       "      <td>NaN</td>\n",
       "    </tr>\n",
       "    <tr>\n",
       "      <th>518</th>\n",
       "      <td>518</td>\n",
       "      <td>Yalostiphos68</td>\n",
       "      <td>29</td>\n",
       "      <td>Male</td>\n",
       "      <td>160</td>\n",
       "      <td>Azurewrath</td>\n",
       "      <td>4.40</td>\n",
       "      <td>NaN</td>\n",
       "    </tr>\n",
       "    <tr>\n",
       "      <th>280</th>\n",
       "      <td>280</td>\n",
       "      <td>Yana46</td>\n",
       "      <td>20</td>\n",
       "      <td>Female</td>\n",
       "      <td>16</td>\n",
       "      <td>Restored Bauble</td>\n",
       "      <td>3.55</td>\n",
       "      <td>NaN</td>\n",
       "    </tr>\n",
       "    <tr>\n",
       "      <th>364</th>\n",
       "      <td>364</td>\n",
       "      <td>Yarithllodeu72</td>\n",
       "      <td>22</td>\n",
       "      <td>Male</td>\n",
       "      <td>88</td>\n",
       "      <td>Emberling, Defender of Delusions</td>\n",
       "      <td>3.75</td>\n",
       "      <td>NaN</td>\n",
       "    </tr>\n",
       "    <tr>\n",
       "      <th>279</th>\n",
       "      <td>279</td>\n",
       "      <td>Yarithrgue83</td>\n",
       "      <td>20</td>\n",
       "      <td>Male</td>\n",
       "      <td>163</td>\n",
       "      <td>Thunderfury Scimitar</td>\n",
       "      <td>3.45</td>\n",
       "      <td>NaN</td>\n",
       "    </tr>\n",
       "    <tr>\n",
       "      <th>698</th>\n",
       "      <td>698</td>\n",
       "      <td>Yarithrin84</td>\n",
       "      <td>30</td>\n",
       "      <td>Female</td>\n",
       "      <td>58</td>\n",
       "      <td>Freak's Bite, Favor of Holy Might</td>\n",
       "      <td>4.14</td>\n",
       "      <td>NaN</td>\n",
       "    </tr>\n",
       "    <tr>\n",
       "      <th>231</th>\n",
       "      <td>231</td>\n",
       "      <td>Yarithsurgue62</td>\n",
       "      <td>26</td>\n",
       "      <td>Male</td>\n",
       "      <td>139</td>\n",
       "      <td>Mercy, Katana of Dismay</td>\n",
       "      <td>4.94</td>\n",
       "      <td>NaN</td>\n",
       "    </tr>\n",
       "    <tr>\n",
       "      <th>696</th>\n",
       "      <td>696</td>\n",
       "      <td>Yarolwen77</td>\n",
       "      <td>30</td>\n",
       "      <td>Male</td>\n",
       "      <td>87</td>\n",
       "      <td>Deluge, Edge of the West</td>\n",
       "      <td>4.43</td>\n",
       "      <td>NaN</td>\n",
       "    </tr>\n",
       "    <tr>\n",
       "      <th>46</th>\n",
       "      <td>46</td>\n",
       "      <td>Yasrisu92</td>\n",
       "      <td>27</td>\n",
       "      <td>Male</td>\n",
       "      <td>102</td>\n",
       "      <td>Avenger</td>\n",
       "      <td>3.44</td>\n",
       "      <td>NaN</td>\n",
       "    </tr>\n",
       "    <tr>\n",
       "      <th>340</th>\n",
       "      <td>340</td>\n",
       "      <td>Yastyriaphos75</td>\n",
       "      <td>22</td>\n",
       "      <td>Male</td>\n",
       "      <td>41</td>\n",
       "      <td>Orbit</td>\n",
       "      <td>4.75</td>\n",
       "      <td>NaN</td>\n",
       "    </tr>\n",
       "    <tr>\n",
       "      <th>257</th>\n",
       "      <td>257</td>\n",
       "      <td>Yasur35</td>\n",
       "      <td>26</td>\n",
       "      <td>Male</td>\n",
       "      <td>175</td>\n",
       "      <td>Woeful Adamantite Claymore</td>\n",
       "      <td>4.48</td>\n",
       "      <td>NaN</td>\n",
       "    </tr>\n",
       "    <tr>\n",
       "      <th>514</th>\n",
       "      <td>514</td>\n",
       "      <td>Yasur85</td>\n",
       "      <td>21</td>\n",
       "      <td>Male</td>\n",
       "      <td>21</td>\n",
       "      <td>Souleater</td>\n",
       "      <td>1.10</td>\n",
       "      <td>NaN</td>\n",
       "    </tr>\n",
       "    <tr>\n",
       "      <th>777</th>\n",
       "      <td>777</td>\n",
       "      <td>Yathecal72</td>\n",
       "      <td>20</td>\n",
       "      <td>Male</td>\n",
       "      <td>67</td>\n",
       "      <td>Celeste, Incarnation of the Corrupted</td>\n",
       "      <td>3.46</td>\n",
       "      <td>NaN</td>\n",
       "    </tr>\n",
       "    <tr>\n",
       "      <th>125</th>\n",
       "      <td>125</td>\n",
       "      <td>Yathecal82</td>\n",
       "      <td>20</td>\n",
       "      <td>Female</td>\n",
       "      <td>62</td>\n",
       "      <td>Piece Maker</td>\n",
       "      <td>1.87</td>\n",
       "      <td>NaN</td>\n",
       "    </tr>\n",
       "    <tr>\n",
       "      <th>727</th>\n",
       "      <td>727</td>\n",
       "      <td>Yathecal82</td>\n",
       "      <td>20</td>\n",
       "      <td>Female</td>\n",
       "      <td>104</td>\n",
       "      <td>Gladiator's Glaive</td>\n",
       "      <td>1.93</td>\n",
       "      <td>NaN</td>\n",
       "    </tr>\n",
       "    <tr>\n",
       "      <th>548</th>\n",
       "      <td>548</td>\n",
       "      <td>Yathecal82</td>\n",
       "      <td>20</td>\n",
       "      <td>Female</td>\n",
       "      <td>75</td>\n",
       "      <td>Brutality Ivory Warmace</td>\n",
       "      <td>2.42</td>\n",
       "      <td>NaN</td>\n",
       "    </tr>\n",
       "    <tr>\n",
       "      <th>595</th>\n",
       "      <td>595</td>\n",
       "      <td>Yathedeu43</td>\n",
       "      <td>22</td>\n",
       "      <td>Male</td>\n",
       "      <td>55</td>\n",
       "      <td>Vindictive Glass Edge</td>\n",
       "      <td>2.27</td>\n",
       "      <td>NaN</td>\n",
       "    </tr>\n",
       "    <tr>\n",
       "      <th>93</th>\n",
       "      <td>93</td>\n",
       "      <td>Yathedeu43</td>\n",
       "      <td>22</td>\n",
       "      <td>Male</td>\n",
       "      <td>88</td>\n",
       "      <td>Emberling, Defender of Delusions</td>\n",
       "      <td>3.75</td>\n",
       "      <td>NaN</td>\n",
       "    </tr>\n",
       "    <tr>\n",
       "      <th>572</th>\n",
       "      <td>572</td>\n",
       "      <td>Yoishirrala98</td>\n",
       "      <td>17</td>\n",
       "      <td>Female</td>\n",
       "      <td>145</td>\n",
       "      <td>Fiery Glass Crusader</td>\n",
       "      <td>4.58</td>\n",
       "      <td>NaN</td>\n",
       "    </tr>\n",
       "    <tr>\n",
       "      <th>54</th>\n",
       "      <td>54</td>\n",
       "      <td>Zhisrisu83</td>\n",
       "      <td>10</td>\n",
       "      <td>Male</td>\n",
       "      <td>25</td>\n",
       "      <td>Hero Cane</td>\n",
       "      <td>4.35</td>\n",
       "      <td>NaN</td>\n",
       "    </tr>\n",
       "    <tr>\n",
       "      <th>141</th>\n",
       "      <td>141</td>\n",
       "      <td>Zhisrisu83</td>\n",
       "      <td>10</td>\n",
       "      <td>Male</td>\n",
       "      <td>60</td>\n",
       "      <td>Wolf</td>\n",
       "      <td>3.54</td>\n",
       "      <td>NaN</td>\n",
       "    </tr>\n",
       "    <tr>\n",
       "      <th>560</th>\n",
       "      <td>560</td>\n",
       "      <td>Zontibe81</td>\n",
       "      <td>21</td>\n",
       "      <td>Male</td>\n",
       "      <td>2</td>\n",
       "      <td>Verdict</td>\n",
       "      <td>2.48</td>\n",
       "      <td>NaN</td>\n",
       "    </tr>\n",
       "    <tr>\n",
       "      <th>442</th>\n",
       "      <td>442</td>\n",
       "      <td>Zontibe81</td>\n",
       "      <td>21</td>\n",
       "      <td>Male</td>\n",
       "      <td>84</td>\n",
       "      <td>Arcane Gem</td>\n",
       "      <td>3.79</td>\n",
       "      <td>NaN</td>\n",
       "    </tr>\n",
       "    <tr>\n",
       "      <th>17</th>\n",
       "      <td>17</td>\n",
       "      <td>Zontibe81</td>\n",
       "      <td>21</td>\n",
       "      <td>Male</td>\n",
       "      <td>161</td>\n",
       "      <td>Devine</td>\n",
       "      <td>1.76</td>\n",
       "      <td>NaN</td>\n",
       "    </tr>\n",
       "  </tbody>\n",
       "</table>\n",
       "<p>780 rows × 8 columns</p>\n",
       "</div>"
      ],
      "text/plain": [
       "     Purchase ID               SN  Age  Gender  Item ID  \\\n",
       "467          467     Adairialis76   16    Male      123   \n",
       "142          142      Adastirin33   35  Female      175   \n",
       "388          388           Aeda94   17    Male      128   \n",
       "28            28           Aela59   21    Male      119   \n",
       "630          630        Aelaria33   23    Male      171   \n",
       "766          766     Aelastirin39   23    Male       58   \n",
       "218          218     Aelastirin39   23    Male       76   \n",
       "705          705        Aelidru27   22    Male      183   \n",
       "52            52          Aelin32   20    Male       60   \n",
       "87            87          Aelin32   20    Male      151   \n",
       "584          584          Aelin32   20    Male      115   \n",
       "43            43          Aelly27   24    Male      116   \n",
       "428          428          Aelly27   24    Male       14   \n",
       "286          286       Aellynun67   25    Male      153   \n",
       "746          746       Aellyria80   23    Male      159   \n",
       "203          203        Aelollo59   33    Male        3   \n",
       "431          431        Aelollo59   33    Male      172   \n",
       "183          183        Aenarap34   21    Male       15   \n",
       "263          263          Aeral43   24    Male       78   \n",
       "674          674          Aeral68   43    Male       77   \n",
       "167          167          Aeral97   23    Male      157   \n",
       "32            32       Aeralria27   10    Male      133   \n",
       "583          583    Aeralstical35   20    Male       49   \n",
       "303          303           Aeri84   24    Male       71   \n",
       "381          381     Aerillorin70   16    Male       83   \n",
       "274          274    Aerithllora36   29  Female       82   \n",
       "578          578    Aerithllora36   29  Female      153   \n",
       "324          324    Aerithnucal56   15    Male      154   \n",
       "517          517   Aerithnuphos61   39    Male      128   \n",
       "40            40  Aerithriaphos45   20    Male      143   \n",
       "..           ...              ...  ...     ...      ...   \n",
       "421          421       Yadaphos40   30    Male       26   \n",
       "62            62       Yadaphos40   30    Male      178   \n",
       "5              5          Yalae81   22    Male       81   \n",
       "447          447          Yalae81   22    Male      120   \n",
       "681          681       Yalaeria91   33    Male       28   \n",
       "59            59         Yaliru88   19    Male      105   \n",
       "383          383           Yalo85   34    Male       11   \n",
       "518          518    Yalostiphos68   29    Male      160   \n",
       "280          280           Yana46   20  Female       16   \n",
       "364          364   Yarithllodeu72   22    Male       88   \n",
       "279          279     Yarithrgue83   20    Male      163   \n",
       "698          698      Yarithrin84   30  Female       58   \n",
       "231          231   Yarithsurgue62   26    Male      139   \n",
       "696          696       Yarolwen77   30    Male       87   \n",
       "46            46        Yasrisu92   27    Male      102   \n",
       "340          340   Yastyriaphos75   22    Male       41   \n",
       "257          257          Yasur35   26    Male      175   \n",
       "514          514          Yasur85   21    Male       21   \n",
       "777          777       Yathecal72   20    Male       67   \n",
       "125          125       Yathecal82   20  Female       62   \n",
       "727          727       Yathecal82   20  Female      104   \n",
       "548          548       Yathecal82   20  Female       75   \n",
       "595          595       Yathedeu43   22    Male       55   \n",
       "93            93       Yathedeu43   22    Male       88   \n",
       "572          572    Yoishirrala98   17  Female      145   \n",
       "54            54       Zhisrisu83   10    Male       25   \n",
       "141          141       Zhisrisu83   10    Male       60   \n",
       "560          560        Zontibe81   21    Male        2   \n",
       "442          442        Zontibe81   21    Male       84   \n",
       "17            17        Zontibe81   21    Male      161   \n",
       "\n",
       "                                        Item Name  Price  Count  \n",
       "467                             Twilight's Carver   2.28    NaN  \n",
       "142                    Woeful Adamantite Claymore   4.48    NaN  \n",
       "388                 Blazeguard, Reach of Eternity   4.91    NaN  \n",
       "28      Stormbringer, Dark Blade of Ending Misery   4.32    NaN  \n",
       "630                                       Scalpel   1.79    NaN  \n",
       "766             Freak's Bite, Favor of Holy Might   4.14    NaN  \n",
       "218                      Haunted Bronzed Bludgeon   3.15    NaN  \n",
       "705                           Dragon's Greatsword   1.09    NaN  \n",
       "52                                           Wolf   3.54    NaN  \n",
       "87                                      Severance   3.40    NaN  \n",
       "584                    Spectral Diamond Doomblade   2.04    NaN  \n",
       "43                        Renewed Skeletal Katana   4.18    NaN  \n",
       "428                                Possessed Core   2.61    NaN  \n",
       "286                               Mercenary Sabre   3.74    NaN  \n",
       "746             Oathbreaker, Spellblade of Trials   3.08    NaN  \n",
       "203                                  Phantomlight   2.49    NaN  \n",
       "431                            Blade of the Grave   3.14    NaN  \n",
       "183                          Soul Infused Crystal   2.96    NaN  \n",
       "263                    Glimmer, Ender of the Moon   4.40    NaN  \n",
       "674                    Piety, Guardian of Riddles   4.00    NaN  \n",
       "167                       Spada, Etcher of Hatred   4.80    NaN  \n",
       "32                               Faith's Scimitar   4.09    NaN  \n",
       "583              The Oculus, Token of Lost Worlds   2.96    NaN  \n",
       "303                                        Demise   1.61    NaN  \n",
       "381                                    Lifebender   3.33    NaN  \n",
       "274                                       Nirvana   4.90    NaN  \n",
       "578                               Mercenary Sabre   3.74    NaN  \n",
       "324                                  Feral Katana   4.40    NaN  \n",
       "517                 Blazeguard, Reach of Eternity   4.91    NaN  \n",
       "40                              Frenzied Scimitar   1.56    NaN  \n",
       "..                                            ...    ...    ...  \n",
       "421                                   Unholy Wand   1.12    NaN  \n",
       "62   Oathbreaker, Last Hope of the Breaking Storm   4.23    NaN  \n",
       "5                                       Dreamkiss   3.61    NaN  \n",
       "447                                        Agatha   3.08    NaN  \n",
       "681              Flux, Destroyer of Due Diligence   1.06    NaN  \n",
       "59                   Hailstorm Shadowsteel Scythe   3.03    NaN  \n",
       "383                                     Brimstone   3.65    NaN  \n",
       "518                                    Azurewrath   4.40    NaN  \n",
       "280                               Restored Bauble   3.55    NaN  \n",
       "364              Emberling, Defender of Delusions   3.75    NaN  \n",
       "279                          Thunderfury Scimitar   3.45    NaN  \n",
       "698             Freak's Bite, Favor of Holy Might   4.14    NaN  \n",
       "231                       Mercy, Katana of Dismay   4.94    NaN  \n",
       "696                      Deluge, Edge of the West   4.43    NaN  \n",
       "46                                        Avenger   3.44    NaN  \n",
       "340                                         Orbit   4.75    NaN  \n",
       "257                    Woeful Adamantite Claymore   4.48    NaN  \n",
       "514                                     Souleater   1.10    NaN  \n",
       "777         Celeste, Incarnation of the Corrupted   3.46    NaN  \n",
       "125                                   Piece Maker   1.87    NaN  \n",
       "727                            Gladiator's Glaive   1.93    NaN  \n",
       "548                       Brutality Ivory Warmace   2.42    NaN  \n",
       "595                         Vindictive Glass Edge   2.27    NaN  \n",
       "93               Emberling, Defender of Delusions   3.75    NaN  \n",
       "572                          Fiery Glass Crusader   4.58    NaN  \n",
       "54                                      Hero Cane   4.35    NaN  \n",
       "141                                          Wolf   3.54    NaN  \n",
       "560                                       Verdict   2.48    NaN  \n",
       "442                                    Arcane Gem   3.79    NaN  \n",
       "17                                         Devine   1.76    NaN  \n",
       "\n",
       "[780 rows x 8 columns]"
      ]
     },
     "execution_count": 81,
     "metadata": {},
     "output_type": "execute_result"
    }
   ],
   "source": [
    "finalD = df.copy()\n",
    "f"
   ]
  },
  {
   "cell_type": "code",
   "execution_count": null,
   "metadata": {},
   "outputs": [],
   "source": []
  },
  {
   "cell_type": "code",
   "execution_count": null,
   "metadata": {},
   "outputs": [],
   "source": []
  },
  {
   "cell_type": "code",
   "execution_count": null,
   "metadata": {},
   "outputs": [],
   "source": []
  },
  {
   "cell_type": "code",
   "execution_count": null,
   "metadata": {},
   "outputs": [],
   "source": []
  },
  {
   "cell_type": "code",
   "execution_count": null,
   "metadata": {},
   "outputs": [],
   "source": []
  },
  {
   "cell_type": "code",
   "execution_count": null,
   "metadata": {},
   "outputs": [],
   "source": []
  },
  {
   "cell_type": "code",
   "execution_count": null,
   "metadata": {},
   "outputs": [],
   "source": []
  },
  {
   "cell_type": "code",
   "execution_count": null,
   "metadata": {},
   "outputs": [],
   "source": []
  },
  {
   "cell_type": "code",
   "execution_count": null,
   "metadata": {},
   "outputs": [],
   "source": []
  },
  {
   "cell_type": "code",
   "execution_count": null,
   "metadata": {},
   "outputs": [],
   "source": []
  },
  {
   "cell_type": "code",
   "execution_count": null,
   "metadata": {},
   "outputs": [],
   "source": []
  },
  {
   "cell_type": "code",
   "execution_count": null,
   "metadata": {},
   "outputs": [],
   "source": []
  },
  {
   "cell_type": "code",
   "execution_count": null,
   "metadata": {},
   "outputs": [],
   "source": []
  },
  {
   "cell_type": "code",
   "execution_count": null,
   "metadata": {},
   "outputs": [],
   "source": []
  },
  {
   "cell_type": "code",
   "execution_count": null,
   "metadata": {},
   "outputs": [],
   "source": []
  }
 ],
 "metadata": {
  "kernelspec": {
   "display_name": "Python 3",
   "language": "python",
   "name": "python3"
  },
  "language_info": {
   "codemirror_mode": {
    "name": "ipython",
    "version": 3
   },
   "file_extension": ".py",
   "mimetype": "text/x-python",
   "name": "python",
   "nbconvert_exporter": "python",
   "pygments_lexer": "ipython3",
   "version": "3.7.3"
  }
 },
 "nbformat": 4,
 "nbformat_minor": 2
}
